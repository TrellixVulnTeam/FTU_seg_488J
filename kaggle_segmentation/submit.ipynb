{
 "cells": [
  {
   "cell_type": "code",
   "execution_count": 1,
   "metadata": {},
   "outputs": [],
   "source": [
    "import os\n",
    "import numpy as np\n",
    "import pandas as pd\n",
    "import glob\n",
    "from tqdm.auto import tqdm\n",
    "from mmseg.apis import init_segmentor, inference_segmentor\n",
    "import cv2\n",
    "import numpy as np\n",
    "import matplotlib.pyplot as plt\n",
    "from typing import Dict"
   ]
  },
  {
   "cell_type": "markdown",
   "metadata": {},
   "source": [
    "# Set up models"
   ]
  },
  {
   "cell_type": "code",
   "execution_count": 2,
   "metadata": {},
   "outputs": [
    {
     "name": "stderr",
     "output_type": "stream",
     "text": [
      "/home/zhangzr/mmsegmentation_kaggle/mmseg/models/losses/cross_entropy_loss.py:242: UserWarning: Default ``avg_non_ignore`` is False, if you would like to ignore the certain label and average loss over non-ignore labels, which is the same with PyTorch official cross_entropy, set ``avg_non_ignore=True``.\n",
      "  warnings.warn(\n"
     ]
    },
    {
     "name": "stdout",
     "output_type": "stream",
     "text": [
      "load checkpoint from local path: ../cache/upernet_swin_base_patch4_window7_512x512_80k_FTU_whole_multilabel/best_mDice_iter_40000.pth\n"
     ]
    }
   ],
   "source": [
    "config_file = '../cache/upernet_swin_base_patch4_window7_512x512_80k_FTU_whole_multilabel/upernet_swin_base_patch4_window7_512x512_80k_FTU_whole_multilabel.py'\n",
    "checkpoint_file = '../cache/upernet_swin_base_patch4_window7_512x512_80k_FTU_whole_multilabel/best_mDice_iter_40000.pth'\n",
    "# build the model from a config file and a checkpoint file\n",
    "model = init_segmentor(config_file, checkpoint_file, device='cuda:0')"
   ]
  },
  {
   "cell_type": "code",
   "execution_count": 3,
   "metadata": {},
   "outputs": [],
   "source": [
    "def rle_encode(mask: np.ndarray, label_bg: int = 0) -> Dict[int, str]:\n",
    "    \"\"\"Encode mask to Run-length encoding.\n",
    "    Inspiration took from: https://gist.github.com/nvictus/66627b580c13068589957d6ab0919e66\n",
    "    >>> from pprint import pprint\n",
    "    >>> mask = np.array([[0, 1, 1, 1, 1, 1, 0, 0, 0, 0],\n",
    "    ...                  [0, 0, 0, 1, 1, 1, 2, 2, 2, 0],\n",
    "    ...                  [0, 0, 0, 0, 0, 1, 3, 3, 0, 0],])\n",
    "    >>> pprint(rle_encode(mask))\n",
    "    {1: '1 5 13 3 25 1', 2: '16 3', 3: '26 2'}\n",
    "    \"\"\"\n",
    "    vec = mask.flatten()\n",
    "    nb = len(vec)\n",
    "    where = np.flatnonzero\n",
    "    starts = np.r_[0, where(~np.isclose(vec[1:], vec[:-1], equal_nan=True)) + 1]\n",
    "    lengths = np.diff(np.r_[starts, nb])\n",
    "    values = vec[starts]\n",
    "    assert len(starts) == len(lengths) == len(values)\n",
    "    rle = {}\n",
    "    for start, length, val in zip(starts, lengths, values):\n",
    "        if val == label_bg:\n",
    "            continue\n",
    "        rle[val] = rle.get(val, []) + [str(start), length]\n",
    "    # post-processing\n",
    "    rle = {lb: \" \".join(map(str, id_lens)) for lb, id_lens in rle.items()}\n",
    "    return rle"
   ]
  },
  {
   "cell_type": "markdown",
   "metadata": {},
   "source": [
    "# Make test submission csv"
   ]
  },
  {
   "cell_type": "code",
   "execution_count": 4,
   "metadata": {},
   "outputs": [
    {
     "data": {
      "text/html": [
       "<div>\n",
       "<style scoped>\n",
       "    .dataframe tbody tr th:only-of-type {\n",
       "        vertical-align: middle;\n",
       "    }\n",
       "\n",
       "    .dataframe tbody tr th {\n",
       "        vertical-align: top;\n",
       "    }\n",
       "\n",
       "    .dataframe thead th {\n",
       "        text-align: right;\n",
       "    }\n",
       "</style>\n",
       "<table border=\"1\" class=\"dataframe\">\n",
       "  <thead>\n",
       "    <tr style=\"text-align: right;\">\n",
       "      <th></th>\n",
       "      <th>id</th>\n",
       "      <th>rle</th>\n",
       "    </tr>\n",
       "  </thead>\n",
       "  <tbody>\n",
       "    <tr>\n",
       "      <th>0</th>\n",
       "      <td>10078</td>\n",
       "      <td>12 34</td>\n",
       "    </tr>\n",
       "  </tbody>\n",
       "</table>\n",
       "</div>"
      ],
      "text/plain": [
       "      id    rle\n",
       "0  10078  12 34"
      ]
     },
     "execution_count": 4,
     "metadata": {},
     "output_type": "execute_result"
    }
   ],
   "source": [
    "data_dir = \"../data/hubmap-organ-segmentation\"\n",
    "test_dir = os.path.join(data_dir, \"test_images\")\n",
    "sub = pd.read_csv(os.path.join(data_dir, \"sample_submission.csv\"))\n",
    "test_images = glob.glob(os.path.join(test_dir, \"**\", \"*.tiff\"), recursive = True)\n",
    "sub"
   ]
  },
  {
   "cell_type": "markdown",
   "metadata": {},
   "source": [
    "# predict"
   ]
  },
  {
   "cell_type": "code",
   "execution_count": 5,
   "metadata": {},
   "outputs": [],
   "source": [
    "def maxLabel(mask):\n",
    "    unique, counts = np.unique(mask, return_counts=True)\n",
    "    index = np.argmax(counts[1:]) + 1\n",
    "    return unique[index]\n",
    "    "
   ]
  },
  {
   "cell_type": "code",
   "execution_count": 11,
   "metadata": {},
   "outputs": [],
   "source": [
    "for index,img_name in enumerate(test_images):\n",
    "    id = img_name.split('/')[-1].split('.')[0]\n",
    "    res = inference_segmentor(model, img_name)[0]\n",
    "    label = maxLabel(res)\n",
    "    rle = rle_encode(res.T)\n",
    "    sub.loc[index, \"id\"] = id\n",
    "    sub.loc[index, \"rle\"] = rle[label]\n"
   ]
  },
  {
   "cell_type": "markdown",
   "metadata": {},
   "source": [
    "# Format submission"
   ]
  },
  {
   "cell_type": "code",
   "execution_count": 7,
   "metadata": {},
   "outputs": [
    {
     "data": {
      "text/html": [
       "<div>\n",
       "<style scoped>\n",
       "    .dataframe tbody tr th:only-of-type {\n",
       "        vertical-align: middle;\n",
       "    }\n",
       "\n",
       "    .dataframe tbody tr th {\n",
       "        vertical-align: top;\n",
       "    }\n",
       "\n",
       "    .dataframe thead th {\n",
       "        text-align: right;\n",
       "    }\n",
       "</style>\n",
       "<table border=\"1\" class=\"dataframe\">\n",
       "  <thead>\n",
       "    <tr style=\"text-align: right;\">\n",
       "      <th></th>\n",
       "      <th>id</th>\n",
       "      <th>rle</th>\n",
       "    </tr>\n",
       "  </thead>\n",
       "  <tbody>\n",
       "    <tr>\n",
       "      <th>0</th>\n",
       "      <td>10078</td>\n",
       "      <td>853553 5 855573 10 857592 15 859595 37 861614 ...</td>\n",
       "    </tr>\n",
       "  </tbody>\n",
       "</table>\n",
       "</div>"
      ],
      "text/plain": [
       "      id                                                rle\n",
       "0  10078  853553 5 855573 10 857592 15 859595 37 861614 ..."
      ]
     },
     "execution_count": 7,
     "metadata": {},
     "output_type": "execute_result"
    }
   ],
   "source": [
    "sub.to_csv(\"submission.csv\", index = False)\n",
    "sub"
   ]
  },
  {
   "cell_type": "code",
   "execution_count": 9,
   "metadata": {},
   "outputs": [
    {
     "name": "stdout",
     "output_type": "stream",
     "text": [
      "dict_keys([4, 1])\n"
     ]
    }
   ],
   "source": [
    "print(rle.keys())"
   ]
  }
 ],
 "metadata": {
  "interpreter": {
   "hash": "9656c464f062ccfd8ba96c4c3c9350bea1c8e56fc9e2ebfcd9f84a4e99b89eff"
  },
  "kernelspec": {
   "display_name": "Python 3.10.4 ('mmseg-kaggle')",
   "language": "python",
   "name": "python3"
  },
  "language_info": {
   "codemirror_mode": {
    "name": "ipython",
    "version": 3
   },
   "file_extension": ".py",
   "mimetype": "text/x-python",
   "name": "python",
   "nbconvert_exporter": "python",
   "pygments_lexer": "ipython3",
   "version": "3.10.4"
  }
 },
 "nbformat": 4,
 "nbformat_minor": 2
}
